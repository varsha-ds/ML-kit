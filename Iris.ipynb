from sklearn.datasets import load_iris
from sklearn.model_selection import train_test_split
from sklearn.linear_model import LogisticRegression
from sklearn.tree import DecisionTreeClassifier
from sklearn.metrics import confusion_matrix, classification_report
import matplotlib.pyplot as plt
import seaborn as sns

X,y = load_iris(return_X_y = True)


X_train,X_test, y_train, y_test = train_test_split(X, y, test_size=0.3, random_state = 42)

log_reg = LogisticRegression(max_iter = 200)
log_reg.fit(X_train, y_train)

log_preds = log_reg.predict(X_test)

tree = DecisionTreeClassifier()
tree.fit(X_train, y_train)
tree_preds = tree.predict(X_test)

print("Logistic Regression Accuracy: ", log_reg.score(X_test, y_test))
print("Decision Trees Accuracy: ", tree.score(X_test, y_test))

log_cm = confusion_matrix(y_test, log_preds)
sns.heatmap(log_cm, annot = True, fmt = "d", cmap = "Blues")
plt.title("Logistic Regression Confusion Matrix")
plt.show()

# Decision Tree CM
tree_cm = confusion_matrix(y_test, tree_preds)
sns.heatmap(tree_cm, annot=True, fmt="d", cmap="Greens")
plt.title("Decision Tree Confusion Matrix")
plt.show()

print("Logistic Regression Report:")
print(classification_report(y_test, log_preds))

print("Decision Tree Report:")
print(classification_report(y_test, tree_preds))


print(log_cm)

