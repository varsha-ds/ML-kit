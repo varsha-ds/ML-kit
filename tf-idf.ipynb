#A text classification ML pipeline using TF-IDF vectorization + Logistic Regression
X = [
    "I want to Cancel my plan",
    "What's the pricing",
    "Show me the pricing",
    "Help me out",
    "Restart the process",
    "Talk to support"
]

y = ["Cancel", "Pricing", "Pricing", "Help", "Restart", "Support"]

from sklearn.feature_extraction.text import TfidfVectorizer
vectorizer = TfidfVectorizer()
X_vec = vectorizer.fit_transform(X)

from sklearn.linear_model import LogisticRegression
model = LogisticRegression()
model.fit(X_vec, y)

test = ["How much does it cost?", "Cancel my order"]
test_vec = vectorizer.transform(test)
predictions = model.predict(test_vec)
print(predictions)

